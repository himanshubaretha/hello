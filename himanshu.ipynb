{
 "cells": [
  {
   "cell_type": "code",
   "execution_count": 1,
   "metadata": {},
   "outputs": [
    {
     "name": "stdout",
     "output_type": "stream",
     "text": [
      "hello.com\n",
      "888\n"
     ]
    }
   ],
   "source": [
    "class user:\n",
    "    def __init__(self,name,uid,phone_no,mail_id,pic):\n",
    "        self.name = name\n",
    "        self.uid = uid\n",
    "        self.phone_no = phone_no\n",
    "        self.mail_id = mail_id\n",
    "        self.pic = pic\n",
    "user2= user('aliyanz',789,8956237410,'aliyanz1232@gmail.com','pic_url')\n",
    "user1=user('himanshu',888,79876360,'hello.com','pic_url')\n",
    "print(user1.mail_id)\n",
    "print(user1.uid)\n"
   ]
  },
  {
   "cell_type": "code",
   "execution_count": 2,
   "metadata": {},
   "outputs": [],
   "source": [
    "class post:\n",
    "    def __init__(self,img,uid,time,like,share):\n",
    "        self.img = img\n",
    "        self.uid=uid\n",
    "        self.time = time\n",
    "        self.like=like\n",
    "        self.share=share\n",
    "post2=post('img_url1',789,'10:30am',1000,40)\n",
    "post1=post('img_url2',888,'18:36pm',10000,400)\n",
    "\n"
   ]
  },
  {
   "cell_type": "code",
   "execution_count": 3,
   "metadata": {},
   "outputs": [],
   "source": [
    "class comment:\n",
    "    def __init__(self,name,time,likes,comment_id,comment):\n",
    "        self.name=name\n",
    "        self.time=time\n",
    "        self.likes=likes\n",
    "        self.comment_id=comment_id\n",
    "        self.comment=comment \n",
    "comment1=comment(\"aditya\",\"08:30\",2,229,'looking awesome')\n",
    "comment2=comment('ayan','05:60',5,777,'hi cricketer')\n",
    "comment3=comment('safi',\"03:52\",8,222,'badhiya hai')\n"
   ]
  },
  {
   "cell_type": "code",
   "execution_count": null,
   "metadata": {},
   "outputs": [],
   "source": []
  }
 ],
 "metadata": {
  "interpreter": {
   "hash": "a575af7c3e6a4703db931977f0774b270538a9ef6db72e24853142981fd30e09"
  },
  "kernelspec": {
   "display_name": "Python 3.9.7 ('base')",
   "language": "python",
   "name": "python3"
  },
  "language_info": {
   "codemirror_mode": {
    "name": "ipython",
    "version": 3
   },
   "file_extension": ".py",
   "mimetype": "text/x-python",
   "name": "python",
   "nbconvert_exporter": "python",
   "pygments_lexer": "ipython3",
   "version": "3.9.7"
  },
  "orig_nbformat": 4
 },
 "nbformat": 4,
 "nbformat_minor": 2
}
