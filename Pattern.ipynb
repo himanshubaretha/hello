{
  "nbformat": 4,
  "nbformat_minor": 0,
  "metadata": {
    "colab": {
      "name": "Pattern.ipynb",
      "provenance": [],
      "collapsed_sections": [],
      "authorship_tag": "ABX9TyPM1e31UqztsFzkLhwsIn4Q",
      "include_colab_link": true
    },
    "kernelspec": {
      "name": "python3",
      "display_name": "Python 3"
    },
    "language_info": {
      "name": "python"
    }
  },
  "cells": [
    {
      "cell_type": "markdown",
      "metadata": {
        "id": "view-in-github",
        "colab_type": "text"
      },
      "source": [
        "<a href=\"https://colab.research.google.com/github/himanshubaretha/hello/blob/main/Pattern.ipynb\" target=\"_parent\"><img src=\"https://colab.research.google.com/assets/colab-badge.svg\" alt=\"Open In Colab\"/></a>"
      ]
    },
    {
      "cell_type": "code",
      "source": [
        "n=int(input())\n",
        "\n",
        "nst = 1\n",
        "\n",
        "for i in range(n):\n",
        "  for j in range(nst):\n",
        "    print(\"*\\t\",end =\"\")\n",
        "  nst=nst+1\n",
        "  print()"
      ],
      "metadata": {
        "colab": {
          "base_uri": "https://localhost:8080/"
        },
        "id": "FKn_dsL5DLwN",
        "outputId": "71b91bad-3720-4b24-82b6-7d9cdb69c79e"
      },
      "execution_count": 1,
      "outputs": [
        {
          "output_type": "stream",
          "name": "stdout",
          "text": [
            "5\n",
            "*\t\n",
            "*\t*\t\n",
            "*\t*\t*\t\n",
            "*\t*\t*\t*\t\n",
            "*\t*\t*\t*\t*\t\n"
          ]
        }
      ]
    },
    {
      "cell_type": "code",
      "source": [
        "n=int(input())\n",
        "nst=n\n",
        "for i in range(n):\n",
        "  for j in range(1,n-i):\n",
        "    print(\"\\t\",end=\"\")\n",
        "  for k in range(0,i+1):\n",
        "    print(\"*\\t\",end=\"\")\n",
        "  print()"
      ],
      "metadata": {
        "id": "vB91aPJ-q_rt",
        "colab": {
          "base_uri": "https://localhost:8080/"
        },
        "outputId": "f039d567-be5a-4c34-b09e-465307bc6c1f"
      },
      "execution_count": 2,
      "outputs": [
        {
          "output_type": "stream",
          "name": "stdout",
          "text": [
            "5\n",
            "\t\t\t\t*\t\n",
            "\t\t\t*\t*\t\n",
            "\t\t*\t*\t*\t\n",
            "\t*\t*\t*\t*\t\n",
            "*\t*\t*\t*\t*\t\n"
          ]
        }
      ]
    },
    {
      "cell_type": "code",
      "source": [
        "n=int(input())\n",
        "nst=n\n",
        "nsp=0\n",
        "for i in range(n):\n",
        "  for j in range(nsp):\n",
        "    print(\"\\t\",end=\"\")\n",
        "  for k in range(nst):\n",
        "    print(\"*\\t\",end=\"\")\n",
        "  print()\n",
        "  nst-=1\n",
        "  nsp+=1"
      ],
      "metadata": {
        "id": "NeEDS9mpU4aq",
        "colab": {
          "base_uri": "https://localhost:8080/"
        },
        "outputId": "3d796878-695c-4571-f2fb-807cce6c8ff1"
      },
      "execution_count": 3,
      "outputs": [
        {
          "output_type": "stream",
          "name": "stdout",
          "text": [
            "5\n",
            "*\t*\t*\t*\t*\t\n",
            "\t*\t*\t*\t*\t\n",
            "\t\t*\t*\t*\t\n",
            "\t\t\t*\t*\t\n",
            "\t\t\t\t*\t\n"
          ]
        }
      ]
    },
    {
      "cell_type": "code",
      "source": [
        "n=int(input())\n",
        "nst=1\n",
        "nsp=int(n/2)\n",
        "for i in range(n):\n",
        "  for j in range(nsp):\n",
        "    print(\"\\t\",end=\"\")\n",
        "  for k in range(nst):\n",
        "    print(\"*\\t\",end=\"\")\n",
        "  print()\n",
        "  if i<int(n/2):\n",
        "    nsp-=1\n",
        "    nst+=2\n",
        "  else:\n",
        "    nsp+=1\n",
        "    nst-=2"
      ],
      "metadata": {
        "id": "4xxdQPZod-B-",
        "colab": {
          "base_uri": "https://localhost:8080/"
        },
        "outputId": "288f106d-d347-478d-ebc0-9549e5bdc548"
      },
      "execution_count": 4,
      "outputs": [
        {
          "output_type": "stream",
          "name": "stdout",
          "text": [
            "5\n",
            "\t\t*\t\n",
            "\t*\t*\t*\t\n",
            "*\t*\t*\t*\t*\t\n",
            "\t*\t*\t*\t\n",
            "\t\t*\t\n"
          ]
        }
      ]
    },
    {
      "cell_type": "code",
      "source": [
        "n=int(input())\n",
        "nst=n\n",
        "for i in range(n):\n",
        "  for j in range(nst):\n",
        "    print(\"*\\t\",end=\"\")\n",
        "  nst-=1\n",
        "  print()"
      ],
      "metadata": {
        "id": "Fe-FcfDcGPl-",
        "colab": {
          "base_uri": "https://localhost:8080/"
        },
        "outputId": "646430ea-eab6-4864-95b0-e5a7418c07f1"
      },
      "execution_count": 5,
      "outputs": [
        {
          "output_type": "stream",
          "name": "stdout",
          "text": [
            "5\n",
            "*\t*\t*\t*\t*\t\n",
            "*\t*\t*\t*\t\n",
            "*\t*\t*\t\n",
            "*\t*\t\n",
            "*\t\n"
          ]
        }
      ]
    },
    {
      "cell_type": "code",
      "source": [
        "n=int(input())\n",
        "nst=int(n/2+1)\n",
        "nsp=0\n",
        "for i in range(n):\n",
        "  for j in range(nst):\n",
        "    print(\"*\\t\",end=\"\")\n",
        "  for k in range(nsp):\n",
        "    print(\"\\t\",end=\"\")\n",
        "  for e in range(nst):\n",
        "    print(\"*\\t\",end=\"\")\n",
        "  print()\n",
        "  if i<int(n/2):\n",
        "    nst-=1\n",
        "    nsp+=2\n",
        "  else:\n",
        "    nst+=1\n",
        "    nsp-=2"
      ],
      "metadata": {
        "colab": {
          "base_uri": "https://localhost:8080/"
        },
        "id": "gtdviI76stUS",
        "outputId": "9f4ce3f3-f4a5-43fe-c608-5d13f4d893c7"
      },
      "execution_count": 10,
      "outputs": [
        {
          "output_type": "stream",
          "name": "stdout",
          "text": [
            "5\n",
            "*\t*\t*\t*\t*\t*\t\n",
            "*\t*\t\t\t*\t*\t\n",
            "*\t\t\t\t\t*\t\n",
            "*\t*\t\t\t*\t*\t\n",
            "*\t*\t*\t*\t*\t*\t\n"
          ]
        }
      ]
    },
    {
      "cell_type": "code",
      "source": [
        "n=int(input())\n",
        "nst=1\n",
        "nsp=0\n",
        "for i in range(n):\n",
        "  for j in range(nsp):\n",
        "    print(\"\\t\",end=\"\")\n",
        "  for k in range(nst):\n",
        "    print(\"*\\t\",end=\"\")\n",
        "  print()\n",
        "  nsp+=1"
      ],
      "metadata": {
        "id": "x1FgMiXnUUD8",
        "colab": {
          "base_uri": "https://localhost:8080/"
        },
        "outputId": "1a606025-3034-454a-c318-0681d23bc968"
      },
      "execution_count": 7,
      "outputs": [
        {
          "output_type": "stream",
          "name": "stdout",
          "text": [
            "5\n",
            "*\t\n",
            "\t*\t\n",
            "\t\t*\t\n",
            "\t\t\t*\t\n",
            "\t\t\t\t*\t\n"
          ]
        }
      ]
    },
    {
      "cell_type": "code",
      "source": [
        "n = int(input())\n",
        "nsp1=n//2\n",
        "nsp2=-1\n",
        "for i in range(n):\n",
        "  for j in range(nsp1):\n",
        "    print(\"\\t\",end=\"\")\n",
        "  if (i!=0) and (i!=(n-1)):\n",
        "    print(\"*\\t\",end=\"\")\n",
        "  for k in range(nsp2):\n",
        "    print(\"\\t\",end=\"\")\n",
        "  print(\"*\\t\")\n",
        "  if i <n//2:\n",
        "    nsp2+=2\n",
        "    nsp1-=1\n",
        "  else:\n",
        "    nsp2-=2\n",
        "    nsp1+=1"
      ],
      "metadata": {
        "id": "g8wgJk97VX8l",
        "colab": {
          "base_uri": "https://localhost:8080/"
        },
        "outputId": "c8f47e35-90d7-41f0-fce4-8f0aebd637c0"
      },
      "execution_count": 8,
      "outputs": [
        {
          "output_type": "stream",
          "name": "stdout",
          "text": [
            "5\n",
            "\t\t*\t\n",
            "\t*\t\t*\t\n",
            "*\t\t\t\t*\t\n",
            "\t*\t\t*\t\n",
            "\t\t*\t\n"
          ]
        }
      ]
    },
    {
      "cell_type": "code",
      "source": [
        "n=int(input())\n",
        "nsp1=0\n",
        "nsp2=n-2\n",
        "for i in range(n):\n",
        "  for j in range(nsp1):\n",
        "    print(\"\\t\",end=\"\")\n",
        "  if i!=n//2:\n",
        "    print(\"*\\t\",end=\"\")\n",
        "  for k in range(nsp2):\n",
        "    print(\"\\t\",end=\"\")\n",
        "  print(\"*\\t\")\n",
        "  if i<n//2:\n",
        "    nsp1+=1\n",
        "    nsp2-=2\n",
        "  else:\n",
        "    nsp1-=1\n",
        "    nsp2+=2"
      ],
      "metadata": {
        "id": "J_17HJxo9sOd",
        "colab": {
          "base_uri": "https://localhost:8080/"
        },
        "outputId": "00aeea7d-dcfe-4cf1-e19e-0707a607b1b2"
      },
      "execution_count": null,
      "outputs": [
        {
          "output_type": "stream",
          "name": "stdout",
          "text": [
            "5\n",
            "*\t\t\t\t*\t\n",
            "\t*\t\t*\t\n",
            "\t\t*\t\n",
            "\t*\t\t*\t\n",
            "*\t\t\t\t*\t\n"
          ]
        }
      ]
    },
    {
      "cell_type": "code",
      "source": [
        ""
      ],
      "metadata": {
        "id": "GeviVJVFfNtw"
      },
      "execution_count": null,
      "outputs": []
    }
  ]
}